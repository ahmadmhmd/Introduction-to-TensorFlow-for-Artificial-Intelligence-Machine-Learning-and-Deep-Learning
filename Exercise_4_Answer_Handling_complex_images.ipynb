{
  "nbformat": 4,
  "nbformat_minor": 0,
  "metadata": {
    "colab": {
      "name": "Exercise 4 Answer- Handling complex images",
      "version": "0.3.2",
      "provenance": []
    },
    "kernelspec": {
      "name": "python3",
      "display_name": "Python 3"
    }
  },
  "cells": [
    {
      "cell_type": "code",
      "metadata": {
        "id": "RWWaVyvbDmkp",
        "colab_type": "code",
        "outputId": "06be5dc6-b19d-4b0e-f0cf-fd2f56203f17",
        "colab": {
          "base_uri": "https://localhost:8080/",
          "height": 204
        }
      },
      "source": [
        "import tensorflow as tf\n",
        "import os\n",
        "import zipfile\n",
        "\n",
        "DESIRED_ACCURACY = 0.999\n",
        "\n",
        "!wget --no-check-certificate \\\n",
        "    \"https://storage.googleapis.com/laurencemoroney-blog.appspot.com/happy-or-sad.zip\" \\\n",
        "    -O \"/tmp/happy-or-sad.zip\"\n",
        "\n",
        "zip_ref = zipfile.ZipFile(\"/tmp/happy-or-sad.zip\", 'r')\n",
        "zip_ref.extractall(\"/tmp/h-or-s\")\n",
        "zip_ref.close()\n",
        "\n",
        "class myCallback(tf.keras.callbacks.Callback):\n",
        "  def on_epoch_end(self, epoch, logs={}):\n",
        "    if(logs.get('acc')>DESIRED_ACCURACY):\n",
        "      print(\"\\nReached 99.9% accuracy so cancelling training!\")\n",
        "      self.model.stop_training = True\n",
        "\n",
        "callbacks = myCallback()\n"
      ],
      "execution_count": 3,
      "outputs": [
        {
          "output_type": "stream",
          "text": [
            "--2019-06-24 20:37:44--  https://storage.googleapis.com/laurencemoroney-blog.appspot.com/happy-or-sad.zip\n",
            "Resolving storage.googleapis.com (storage.googleapis.com)... 74.125.135.128, 2607:f8b0:400e:c03::80\n",
            "Connecting to storage.googleapis.com (storage.googleapis.com)|74.125.135.128|:443... connected.\n",
            "HTTP request sent, awaiting response... 200 OK\n",
            "Length: 2670333 (2.5M) [application/zip]\n",
            "Saving to: ‘/tmp/happy-or-sad.zip’\n",
            "\n",
            "\r/tmp/happy-or-sad.z   0%[                    ]       0  --.-KB/s               \r/tmp/happy-or-sad.z 100%[===================>]   2.55M  --.-KB/s    in 0.02s   \n",
            "\n",
            "2019-06-24 20:37:44 (168 MB/s) - ‘/tmp/happy-or-sad.zip’ saved [2670333/2670333]\n",
            "\n"
          ],
          "name": "stdout"
        }
      ]
    },
    {
      "cell_type": "code",
      "metadata": {
        "id": "0rEcroxlNRKu",
        "colab_type": "code",
        "colab": {
          "base_uri": "https://localhost:8080/",
          "height": 88
        },
        "outputId": "cc6a143e-5896-4f38-ec3a-c43da9396c5e"
      },
      "source": [
        "model = tf.keras.models.Sequential([\n",
        "    tf.keras.layers.Conv2D(16, (3,3), activation='relu', input_shape=(150, 150, 3)),\n",
        "    tf.keras.layers.MaxPooling2D(2, 2),\n",
        "    tf.keras.layers.Conv2D(32, (3,3), activation='relu'),\n",
        "    tf.keras.layers.MaxPooling2D(2,2),\n",
        "    tf.keras.layers.Conv2D(32, (3,3), activation='relu'),\n",
        "    tf.keras.layers.MaxPooling2D(2,2),\n",
        "    tf.keras.layers.Flatten(),\n",
        "    tf.keras.layers.Dense(512, activation='relu'),\n",
        "    tf.keras.layers.Dense(1, activation='sigmoid')\n",
        "])\n",
        "\n",
        "from tensorflow.keras.optimizers import RMSprop\n",
        "\n",
        "model.compile(loss='binary_crossentropy',\n",
        "              optimizer=RMSprop(lr=0.001),\n",
        "              metrics=['acc'])"
      ],
      "execution_count": 4,
      "outputs": [
        {
          "output_type": "stream",
          "text": [
            "W0624 20:37:45.348159 140272097687424 deprecation.py:323] From /usr/local/lib/python3.6/dist-packages/tensorflow/python/ops/nn_impl.py:180: add_dispatch_support.<locals>.wrapper (from tensorflow.python.ops.array_ops) is deprecated and will be removed in a future version.\n",
            "Instructions for updating:\n",
            "Use tf.where in 2.0, which has the same broadcast rule as np.where\n"
          ],
          "name": "stderr"
        }
      ]
    },
    {
      "cell_type": "code",
      "metadata": {
        "id": "dNVqEHf2NT4b",
        "colab_type": "code",
        "colab": {
          "base_uri": "https://localhost:8080/",
          "height": 34
        },
        "outputId": "80f75578-e884-4e7e-bed3-e62b83a94582"
      },
      "source": [
        "from tensorflow.keras.preprocessing.image import ImageDataGenerator\n",
        "\n",
        "train_datagen = ImageDataGenerator(rescale=1/255)\n",
        "\n",
        "train_generator = train_datagen.flow_from_directory(\n",
        "        \"/tmp/h-or-s\",  \n",
        "        target_size=(150, 150), \n",
        "        batch_size=10,\n",
        "        class_mode='binary')\n",
        "\n",
        "# Expected output: 'Found 80 images belonging to 2 classes'"
      ],
      "execution_count": 5,
      "outputs": [
        {
          "output_type": "stream",
          "text": [
            "Found 80 images belonging to 2 classes.\n"
          ],
          "name": "stdout"
        }
      ]
    },
    {
      "cell_type": "code",
      "metadata": {
        "id": "erZAfPtVNVzj",
        "colab_type": "code",
        "colab": {
          "base_uri": "https://localhost:8080/",
          "height": 527
        },
        "outputId": "36fc67c5-d1c5-4948-aaba-bd2b513314f8"
      },
      "source": [
        "history = model.fit_generator(\n",
        "      train_generator,\n",
        "      steps_per_epoch=2,  \n",
        "      epochs=15,\n",
        "      verbose=1,\n",
        "      callbacks=[callbacks])"
      ],
      "execution_count": 6,
      "outputs": [
        {
          "output_type": "stream",
          "text": [
            "Epoch 1/15\n",
            "2/2 [==============================] - 1s 686ms/step - loss: 1.4412 - acc: 0.3500\n",
            "Epoch 2/15\n",
            "2/2 [==============================] - 0s 239ms/step - loss: 0.7198 - acc: 0.4000\n",
            "Epoch 3/15\n",
            "2/2 [==============================] - 0s 224ms/step - loss: 0.6819 - acc: 0.5500\n",
            "Epoch 4/15\n",
            "2/2 [==============================] - 1s 286ms/step - loss: 0.6282 - acc: 0.7500\n",
            "Epoch 5/15\n",
            "2/2 [==============================] - 0s 228ms/step - loss: 0.5968 - acc: 0.6000\n",
            "Epoch 6/15\n",
            "2/2 [==============================] - 0s 229ms/step - loss: 0.6213 - acc: 0.7500\n",
            "Epoch 7/15\n",
            "2/2 [==============================] - 0s 230ms/step - loss: 0.4826 - acc: 0.9000\n",
            "Epoch 8/15\n",
            "2/2 [==============================] - 1s 257ms/step - loss: 0.3626 - acc: 0.9000\n",
            "Epoch 9/15\n",
            "2/2 [==============================] - 1s 258ms/step - loss: 0.3396 - acc: 0.9000\n",
            "Epoch 10/15\n",
            "2/2 [==============================] - 0s 228ms/step - loss: 0.1551 - acc: 0.9500\n",
            "Epoch 11/15\n",
            "2/2 [==============================] - 0s 225ms/step - loss: 0.1930 - acc: 0.9500\n",
            "Epoch 12/15\n",
            "2/2 [==============================] - 1s 259ms/step - loss: 0.2397 - acc: 0.9000\n",
            "Epoch 13/15\n",
            "2/2 [==============================] - 1s 257ms/step - loss: 0.0966 - acc: 0.9500\n",
            "Epoch 14/15\n",
            "2/2 [==============================] - 0s 228ms/step - loss: 0.2715 - acc: 0.9000\n",
            "Epoch 15/15\n",
            "2/2 [==============================] - 0s 230ms/step - loss: 0.1749 - acc: 0.9000\n"
          ],
          "name": "stdout"
        }
      ]
    }
  ]
}