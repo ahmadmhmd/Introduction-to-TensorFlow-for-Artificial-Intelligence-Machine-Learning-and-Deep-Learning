{
  "nbformat": 4,
  "nbformat_minor": 0,
  "metadata": {
    "colab": {
      "name": "Exercise 3 - Improve MNIST with convolutions",
      "version": "0.3.2",
      "provenance": []
    },
    "kernelspec": {
      "name": "python3",
      "display_name": "Python 3"
    }
  },
  "cells": [
    {
      "cell_type": "code",
      "metadata": {
        "id": "RWWaVyvbDmkp",
        "colab_type": "code",
        "outputId": "c74cd028-616f-4139-87c0-6a260b388340",
        "colab": {
          "base_uri": "https://localhost:8080/",
          "height": 340
        }
      },
      "source": [
        "import tensorflow as tf\n",
        "\n",
        "class myCallback(tf.keras.callbacks.Callback):\n",
        "  def on_epoch_end(self, epoch, logs={}):\n",
        "    if(logs.get('acc')>0.998):\n",
        "      print(\"\\nReached 99.8% accuracy so cancelling training!\")\n",
        "      self.model.stop_training = True\n",
        "\n",
        "callbacks = myCallback()\n",
        "mnist = tf.keras.datasets.mnist\n",
        "(training_images, training_labels), (test_images, test_labels) = mnist.load_data()\n",
        "training_images=training_images.reshape(60000, 28, 28, 1)\n",
        "training_images=training_images / 255.0\n",
        "test_images = test_images.reshape(10000, 28, 28, 1)\n",
        "test_images=test_images/255.0\n",
        "model = tf.keras.models.Sequential([\n",
        "  tf.keras.layers.Conv2D(32, (3,3), activation='relu', input_shape=(28, 28, 1)),\n",
        "  tf.keras.layers.MaxPooling2D(2, 2),\n",
        "  tf.keras.layers.Flatten(),\n",
        "  tf.keras.layers.Dense(128, activation='relu'),\n",
        "  tf.keras.layers.Dense(10, activation='softmax')\n",
        "])\n",
        "model.compile(optimizer='adam', loss='sparse_categorical_crossentropy', metrics=['accuracy'])\n",
        "model.fit(training_images, training_labels, epochs=10, callbacks=[callbacks])\n"
      ],
      "execution_count": 2,
      "outputs": [
        {
          "output_type": "stream",
          "text": [
            "Epoch 1/10\n",
            "60000/60000 [==============================] - 37s 610us/sample - loss: 0.1397 - acc: 0.9583\n",
            "Epoch 2/10\n",
            "60000/60000 [==============================] - 37s 614us/sample - loss: 0.0463 - acc: 0.9860\n",
            "Epoch 3/10\n",
            "60000/60000 [==============================] - 36s 608us/sample - loss: 0.0284 - acc: 0.9909\n",
            "Epoch 4/10\n",
            "60000/60000 [==============================] - 37s 610us/sample - loss: 0.0192 - acc: 0.9936\n",
            "Epoch 5/10\n",
            "60000/60000 [==============================] - 36s 607us/sample - loss: 0.0122 - acc: 0.9963\n",
            "Epoch 6/10\n",
            "60000/60000 [==============================] - 36s 606us/sample - loss: 0.0104 - acc: 0.9965\n",
            "Epoch 7/10\n",
            "60000/60000 [==============================] - 36s 599us/sample - loss: 0.0062 - acc: 0.9980\n",
            "Epoch 8/10\n",
            "59904/60000 [============================>.] - ETA: 0s - loss: 0.0055 - acc: 0.9983\n",
            "Reached 99.8% accuracy so cancelling training!\n",
            "60000/60000 [==============================] - 36s 597us/sample - loss: 0.0054 - acc: 0.9983\n"
          ],
          "name": "stdout"
        },
        {
          "output_type": "execute_result",
          "data": {
            "text/plain": [
              "<tensorflow.python.keras.callbacks.History at 0x7f936bbea668>"
            ]
          },
          "metadata": {
            "tags": []
          },
          "execution_count": 2
        }
      ]
    }
  ]
}